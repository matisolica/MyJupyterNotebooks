{
 "cells": [
  {
   "cell_type": "code",
   "execution_count": 4,
   "metadata": {},
   "outputs": [],
   "source": [
    "import pandas as pd\n",
    "import numpy as np"
   ]
  },
  {
   "cell_type": "code",
   "execution_count": 6,
   "metadata": {},
   "outputs": [
    {
     "name": "stdout",
     "output_type": "stream",
     "text": [
      "[0, 2, 4, 6, 8, 10, 12, 14, 16, 18]\n"
     ]
    }
   ],
   "source": [
    "numeros = range(0,20,2) #genera una lista común, el primer número es donde empieza la lista, el segundo donde termina, y el tercero el increment (en este caso va de dos en dos)\n",
    "print(list(numeros))"
   ]
  },
  {
   "cell_type": "code",
   "execution_count": 7,
   "metadata": {},
   "outputs": [
    {
     "name": "stdout",
     "output_type": "stream",
     "text": [
      "0     0\n",
      "1     2\n",
      "2     4\n",
      "3     6\n",
      "4     8\n",
      "5    10\n",
      "6    12\n",
      "7    14\n",
      "8    16\n",
      "9    18\n",
      "dtype: int64\n"
     ]
    }
   ],
   "source": [
    "numeros_serie =  pd.Series(numeros) #genera con Pandas una lista tipo serie, con Id + value + datatype\n",
    "print(numeros_serie)"
   ]
  },
  {
   "cell_type": "code",
   "execution_count": 10,
   "metadata": {},
   "outputs": [
    {
     "name": "stdout",
     "output_type": "stream",
     "text": [
      "primero     0\n",
      "segundo     2\n",
      "tercero     4\n",
      "cuarto      6\n",
      "quinto      8\n",
      "sexto      10\n",
      "septimo    12\n",
      "octavo     14\n",
      "noveno     16\n",
      "decimo     18\n",
      "dtype: int64\n",
      "Index(['primero', 'segundo', 'tercero', 'cuarto', 'quinto', 'sexto', 'septimo',\n",
      "       'octavo', 'noveno', 'decimo'],\n",
      "      dtype='object')\n",
      "4\n"
     ]
    },
    {
     "name": "stderr",
     "output_type": "stream",
     "text": [
      "C:\\Users\\matis\\AppData\\Local\\Temp\\ipykernel_4572\\2187927341.py:6: FutureWarning: Series.__getitem__ treating keys as positions is deprecated. In a future version, integer keys will always be treated as labels (consistent with DataFrame behavior). To access a value by position, use `ser.iloc[pos]`\n",
      "  print(numeros_serie_2[2])\n"
     ]
    }
   ],
   "source": [
    "#array de indices: arreglo de indices para modificar los numeros que vienen por defecto\n",
    "numeros_texto = [\"primero\", \"segundo\", \"tercero\", \"cuarto\", \"quinto\", \"sexto\", \"septimo\", \"octavo\", \"noveno\", \"decimo\"]\n",
    "numeros_serie_2 = pd.Series(numeros, index=numeros_texto)\n",
    "print(numeros_serie_2)\n",
    "print(numeros_serie_2.index)\n",
    "print(numeros_serie_2[2])"
   ]
  },
  {
   "cell_type": "markdown",
   "metadata": {},
   "source": [
    "## Dataframe"
   ]
  },
  {
   "cell_type": "code",
   "execution_count": 12,
   "metadata": {},
   "outputs": [
    {
     "name": "stdout",
     "output_type": "stream",
     "text": [
      "A1    3500\n",
      "A2    3600\n",
      "A3    3800\n",
      "A4    3900\n",
      "A5    3200\n",
      "dtype: int64\n",
      "\n",
      "\n",
      "A1    10000\n",
      "A2    11000\n",
      "A3    15000\n",
      "A4     1200\n",
      "A5     8000\n",
      "dtype: int64\n"
     ]
    }
   ],
   "source": [
    "modelos = [\"A1\", \"A2\", \"A3\", \"A4\", \"A5\"]\n",
    "peso = [3500, 3600, 3800, 3900, 3200]\n",
    "precios = [10000, 11000, 15000, 1200, 8000]\n",
    "\n",
    "#Creo las series que necesito para armar la lista\n",
    "\n",
    "peso_series = pd.Series(peso, index=modelos)\n",
    "precios_series = pd.Series(precios, index=modelos)\n",
    "\n",
    "print(peso_series)\n",
    "print(\"\\n\") #es para saltar una linea y dejar más espacio entre prints (alt+92)\n",
    "print(precios_series)"
   ]
  },
  {
   "cell_type": "code",
   "execution_count": 19,
   "metadata": {},
   "outputs": [
    {
     "name": "stdout",
     "output_type": "stream",
     "text": [
      "    Peso  Precios\n",
      "A1  3500    10000\n",
      "A2  3600    11000\n",
      "A3  3800    15000\n",
      "A4  3900     1200\n",
      "A5  3200     8000\n",
      "\n",
      "\n",
      "    Peso  Precios\n",
      "A1  3500    10000\n",
      "A2  3600    11000\n",
      "\n",
      "\n",
      "    Peso  Precios\n",
      "A4  3900     1200\n",
      "A5  3200     8000\n",
      "\n",
      "\n",
      "              Peso       Precios\n",
      "count     5.000000      5.000000\n",
      "mean   3600.000000   9040.000000\n",
      "std     273.861279   5070.305711\n",
      "min    3200.000000   1200.000000\n",
      "25%    3500.000000   8000.000000\n",
      "50%    3600.000000  10000.000000\n",
      "75%    3800.000000  11000.000000\n",
      "max    3900.000000  15000.000000\n",
      "\n",
      "\n",
      "<class 'pandas.core.frame.DataFrame'>\n",
      "Index: 5 entries, A1 to A5\n",
      "Data columns (total 2 columns):\n",
      " #   Column   Non-Null Count  Dtype\n",
      "---  ------   --------------  -----\n",
      " 0   Peso     5 non-null      int64\n",
      " 1   Precios  5 non-null      int64\n",
      "dtypes: int64(2)\n",
      "memory usage: 120.0+ bytes\n",
      "None\n"
     ]
    }
   ],
   "source": [
    "#construir dataframe combinando las series\n",
    "\n",
    "autos = pd.DataFrame({\"Peso\": peso_series, \"Precios\": precios_series})\n",
    "print(autos)\n",
    "print(\"\\n\")\n",
    "print(autos.head(2)) #devuelve los primeros(n)\n",
    "print(\"\\n\")\n",
    "print(autos.tail(2)) #devuelve los ultimos(n)\n",
    "print(\"\\n\")\n",
    "print(autos.describe()) #devuelve tabla con estadistica descriptiva (media, desvio estandar, min, max, quintiles)\n",
    "print(\"\\n\")\n",
    "print(autos.info()) #devuelve info de la tabla"
   ]
  },
  {
   "cell_type": "code",
   "execution_count": 23,
   "metadata": {},
   "outputs": [
    {
     "name": "stdout",
     "output_type": "stream",
     "text": [
      "A1    2.86\n",
      "A2    3.06\n",
      "A3    3.95\n",
      "A4    0.31\n",
      "A5    2.50\n",
      "Name: Precio_PorKG, dtype: float64\n"
     ]
    },
    {
     "data": {
      "text/html": [
       "<div>\n",
       "<style scoped>\n",
       "    .dataframe tbody tr th:only-of-type {\n",
       "        vertical-align: middle;\n",
       "    }\n",
       "\n",
       "    .dataframe tbody tr th {\n",
       "        vertical-align: top;\n",
       "    }\n",
       "\n",
       "    .dataframe thead th {\n",
       "        text-align: right;\n",
       "    }\n",
       "</style>\n",
       "<table border=\"1\" class=\"dataframe\">\n",
       "  <thead>\n",
       "    <tr style=\"text-align: right;\">\n",
       "      <th></th>\n",
       "      <th>Peso</th>\n",
       "      <th>Precios</th>\n",
       "      <th>Precio_PorKG</th>\n",
       "    </tr>\n",
       "  </thead>\n",
       "  <tbody>\n",
       "    <tr>\n",
       "      <th>A1</th>\n",
       "      <td>3500</td>\n",
       "      <td>10000</td>\n",
       "      <td>2.86</td>\n",
       "    </tr>\n",
       "    <tr>\n",
       "      <th>A2</th>\n",
       "      <td>3600</td>\n",
       "      <td>11000</td>\n",
       "      <td>3.06</td>\n",
       "    </tr>\n",
       "    <tr>\n",
       "      <th>A3</th>\n",
       "      <td>3800</td>\n",
       "      <td>15000</td>\n",
       "      <td>3.95</td>\n",
       "    </tr>\n",
       "    <tr>\n",
       "      <th>A4</th>\n",
       "      <td>3900</td>\n",
       "      <td>1200</td>\n",
       "      <td>0.31</td>\n",
       "    </tr>\n",
       "    <tr>\n",
       "      <th>A5</th>\n",
       "      <td>3200</td>\n",
       "      <td>8000</td>\n",
       "      <td>2.50</td>\n",
       "    </tr>\n",
       "  </tbody>\n",
       "</table>\n",
       "</div>"
      ],
      "text/plain": [
       "    Peso  Precios  Precio_PorKG\n",
       "A1  3500    10000          2.86\n",
       "A2  3600    11000          3.06\n",
       "A3  3800    15000          3.95\n",
       "A4  3900     1200          0.31\n",
       "A5  3200     8000          2.50"
      ]
     },
     "execution_count": 23,
     "metadata": {},
     "output_type": "execute_result"
    }
   ],
   "source": [
    "#agregar una nueva columna a un dataframe ya hecho: ej. autos['precioxkg]--- al dataframe autos le agregué la columna precioxkg\n",
    "autos['Precio_PorKG'] = (autos['Precios']/autos['Peso']).round(2) #el round lo usamos para redondear en (n) decimales\n",
    "print(autos['Precio_PorKG'])\n",
    "\n",
    "autos"
   ]
  },
  {
   "cell_type": "code",
   "execution_count": 24,
   "metadata": {},
   "outputs": [
    {
     "data": {
      "text/plain": [
       "8"
      ]
     },
     "execution_count": 24,
     "metadata": {},
     "output_type": "execute_result"
    }
   ],
   "source": [
    "numeros_serie_2[\"quinto\"]"
   ]
  },
  {
   "cell_type": "code",
   "execution_count": 25,
   "metadata": {},
   "outputs": [
    {
     "data": {
      "text/plain": [
       "8"
      ]
     },
     "execution_count": 25,
     "metadata": {},
     "output_type": "execute_result"
    }
   ],
   "source": [
    "numeros_serie_2.loc[\"quinto\"]"
   ]
  },
  {
   "cell_type": "code",
   "execution_count": 27,
   "metadata": {},
   "outputs": [
    {
     "data": {
      "text/plain": [
       "8"
      ]
     },
     "execution_count": 27,
     "metadata": {},
     "output_type": "execute_result"
    }
   ],
   "source": [
    "numeros_serie_2.iloc[4] #funciona solo para indices numericos, por eso pongo 4 en lugar de quinto"
   ]
  },
  {
   "cell_type": "code",
   "execution_count": 29,
   "metadata": {},
   "outputs": [
    {
     "name": "stdout",
     "output_type": "stream",
     "text": [
      "    Precios  Precio_PorKG\n",
      "A2    11000          3.06\n",
      "A3    15000          3.95\n"
     ]
    }
   ],
   "source": [
    "#filtro por condicional\n",
    "autos_caros = autos.loc[autos['Precios'] > 10000, ['Precios', 'Precio_PorKG']] \n",
    "print(autos_caros)"
   ]
  },
  {
   "cell_type": "code",
   "execution_count": null,
   "metadata": {},
   "outputs": [],
   "source": []
  }
 ],
 "metadata": {
  "kernelspec": {
   "display_name": "Python 3",
   "language": "python",
   "name": "python3"
  },
  "language_info": {
   "codemirror_mode": {
    "name": "ipython",
    "version": 3
   },
   "file_extension": ".py",
   "mimetype": "text/x-python",
   "name": "python",
   "nbconvert_exporter": "python",
   "pygments_lexer": "ipython3",
   "version": "3.11.9"
  }
 },
 "nbformat": 4,
 "nbformat_minor": 2
}
