{
 "cells": [
  {
   "cell_type": "code",
   "execution_count": 1,
   "metadata": {},
   "outputs": [
    {
     "name": "stdout",
     "output_type": "stream",
     "text": [
      "Días en los que el precio bajó: ['jueves', 'domingo']\n"
     ]
    }
   ],
   "source": [
    "# Definir las listas\n",
    "dias = [\"lunes\", \"martes\", \"miércoles\", \"jueves\", \"viernes\", \"sábado\", \"domingo\"]\n",
    "precios = [200, 225, 232, 221, 243, 256, 255]\n",
    "\n",
    "# Encontrar los días donde el precio bajó\n",
    "dias_bajada = [dias[i] for i in range(1, len(precios)) if precios[i] < precios[i-1]]\n",
    "\n",
    "print(\"Días en los que el precio bajó:\", dias_bajada)"
   ]
  },
  {
   "cell_type": "markdown",
   "metadata": {},
   "source": [
    "# Paso a paso de la linea dias_bajada\n",
    "\n",
    "## List Comprehension:\n",
    "\n",
    "La sintaxis [elemento for elemento in iterador] se conoce como list comprehension. Es una forma concisa de construir una nueva lista.\n",
    "En este caso, la nueva lista contendrá los días (dias[i]) en los que el precio bajó.\n",
    "Iterador:\n",
    "\n",
    "### for i in range(1, len(precios)):\n",
    "range(1, len(precios)) genera una secuencia de índices que comienza en 1 y termina en el último índice de la lista precios.\n",
    "Empezamos en 1 porque queremos comparar cada día con el día anterior, y no hay día anterior para el primer día (índice 0).\n",
    "i es el índice actual en la lista precios.\n",
    "Condición:\n",
    "\n",
    "### if precios[i] < precios[i-1]:\n",
    "Esto verifica si el precio en el día actual (precios[i]) es menor que el precio del día anterior (precios[i-1]).\n",
    "Solo si esta condición es verdadera, el día correspondiente (dias[i]) se incluirá en la nueva lista dias_bajada.\n",
    "Resultado:\n",
    "\n",
    "dias[i] es el día correspondiente al índice i en la lista dias.\n",
    "Si la condición es verdadera, dias[i] se agrega a dias_bajada.\n",
    "Ejemplo con tus datos:\n",
    "Con precios = [200, 225, 232, 221, 243, 256, 255]:\n",
    "\n",
    "Día 1: 225 no es menor que 200, no se incluye \"martes\".\n",
    "Día 2: 232 no es menor que 225, no se incluye \"miércoles\".\n",
    "Día 3: 221 es menor que 232, se incluye \"jueves\".\n",
    "Día 4: 243 no es menor que 221, no se incluye \"viernes\".\n",
    "Día 5: 256 no es menor que 243, no se incluye \"sábado\".\n",
    "Día 6: 255 es menor que 256, se incluye \"domingo\".\n",
    "Entonces, dias_bajada contendrá [\"jueves\", \"domingo\"], que son los días en los que el precio bajó.\n",
    "\n",
    "\n",
    "2/2\n",
    "\n",
    "Dijiste:\n",
    "y para que se usa len dentro de range?\n",
    "ChatGPT dijo:\n",
    "ChatGPT\n",
    "La función len() en Python se usa para obtener la longitud (el número de elementos) de una lista u otro iterable. En el contexto de range(), se usa para definir el rango de índices sobre los cuales iterar.\n",
    "\n",
    "En el contexto del código:\n",
    "python\n",
    "Copiar código\n",
    "for i in range(1, len(precios)):\n",
    "Aquí, range(1, len(precios)) hace lo siguiente:\n",
    "\n",
    "len(precios):\n",
    "\n",
    "Calcula la longitud de la lista precios.\n",
    "En tu caso, precios tiene 7 elementos, por lo que len(precios) devuelve 7.\n",
    "range(1, len(precios)):\n",
    "\n",
    "range(1, 7) genera una secuencia de números que va desde 1 hasta 6 (no incluye el 7).\n",
    "Esto significa que el bucle for iterará sobre los índices 1, 2, 3, 4, 5, 6.\n",
    "¿Por qué empezamos desde 1?\n",
    "Comenzamos desde 1 porque queremos comparar cada precio con el precio del día anterior. Si empezáramos en 0, no habría un precio anterior con el cual comparar.\n",
    "\n",
    "Resumen:\n",
    "len(precios) asegura que el bucle cubra todos los días desde el segundo día hasta el último.\n",
    "range(1, len(precios)) define los índices que se usarán para iterar y comparar precios, comenzando desde el segundo día (índice 1) hasta el último día."
   ]
  },
  {
   "cell_type": "code",
   "execution_count": 18,
   "metadata": {},
   "outputs": [
    {
     "name": "stdout",
     "output_type": "stream",
     "text": [
      "[5, 2, 22, 3, False, 44, 33, True]\n",
      "8\n",
      "[5, 22, 3, False, 44, 33, True]\n",
      "7\n",
      "[5, 3, False, 44, 33, True]\n",
      "[False, True, 3, 5, 33, 44]\n",
      "[44, 33, 5, 3, True, False]\n"
     ]
    },
    {
     "data": {
      "text/plain": [
       "1"
      ]
     },
     "execution_count": 18,
     "metadata": {},
     "output_type": "execute_result"
    }
   ],
   "source": [
    "#Crear una lista\n",
    "\n",
    "lista = list([5, 2, 3, False])\n",
    "\n",
    "#agrego un elemento\n",
    "\n",
    "lista.append(44) #se puede poner asi solo operador o asignarle variable (ej. agregar con append = lista.append('holamanola'))\n",
    "lista.insert(2, 22) #inserta elemento a la lista en el indice especificado\n",
    "lista.extend([33, True]) # los agrega al final de la lista\n",
    "\n",
    "#eliminar elemento de la lista por su indice (pop). Printeo para mostrar elementos antes y despues de eliminar\n",
    "\n",
    "print(lista)\n",
    "\n",
    "print(len(lista))\n",
    "\n",
    "lista.pop(1)\n",
    "\n",
    "print(lista)\n",
    "\n",
    "print(len(lista))\n",
    "\n",
    "lista.remove(22) #remueve un elemento por su valor, si no lo encuentra tira excepcion\n",
    "\n",
    "print (lista)\n",
    "\n",
    "#ordenar elementos de la lista de menor a mayor (primero False, luego True, luego numeros de menor a mayor)\n",
    "\n",
    "lista.sort()\n",
    "\n",
    "print(lista)\n",
    "\n",
    "lista.sort(reverse=True) #invierto el orden de la lista con reverse=True dentro de un sort. Si uso el reverse como método (lista.reverse) invierte los elementos de la lista como están\n",
    "\n",
    "print(lista)\n",
    "\n",
    "lista.index(33) #muestra en que posicion indice esta un elemento. Si no lo encuentra arroja excepción"
   ]
  },
  {
   "cell_type": "markdown",
   "metadata": {},
   "source": [
    "En Python, tanto las listas como las tuplas son tipos de datos que se utilizan para almacenar colecciones de elementos, pero tienen algunas diferencias clave:\n",
    "\n",
    "### Mutabilidad:\n",
    "\n",
    "- Lista: Es mutable, lo que significa que se puede modificar después de su creación. Puedes agregar, eliminar o cambiar elementos en una lista.\n",
    "\n",
    "lista = [1, 2, 3]\n",
    "lista[0] = 10  # Modifica el primer elemento\n",
    "lista.append(4)  # Agrega un elemento al final\n",
    "\n",
    "- Tupla: Es inmutable, lo que significa que no se puede modificar después de su creación. Una vez que una tupla está definida, no puedes cambiar, agregar ni eliminar elementos.\n",
    "\n",
    "tupla = (1, 2, 3) #tupla[0] = 10  # Esto dará un error\n",
    "\n",
    "\n",
    "### Sintaxis:\n",
    "\n",
    "- Lista: Se define utilizando corchetes [].\n",
    "\n",
    "lista = [1, 2, 3]\n",
    "\n",
    "- Tupla: Se define utilizando paréntesis ().\n",
    "\n",
    "tupla = (1, 2, 3)\n",
    "\n",
    "### Rendimiento:\n",
    "\n",
    "- Tuplas: Al ser inmutables, las tuplas son generalmente más rápidas y ocupan menos espacio en memoria en comparación con las listas. Esto se debe a que las tuplas pueden ser optimizadas por el compilador de Python.\n",
    "\n",
    "- Listas: Al ser mutables, son más flexibles, pero esa flexibilidad tiene un costo en términos de rendimiento y uso de memoria.\n",
    "\n",
    "### Uso típico:\n",
    "\n",
    "- Listas: Se utilizan cuando necesitas una colección de elementos que pueden cambiar a lo largo del tiempo, como una lista de tareas, donde puedes agregar o eliminar elementos.\n",
    "\n",
    "- Tuplas: Se utilizan para almacenar colecciones de elementos que no deberían cambiar, como las coordenadas de un punto en un espacio (x, y, z) o para pasar un grupo de valores como un paquete (por ejemplo, múltiples valores de retorno de una función).\n",
    "\n",
    "### Métodos disponibles:\n",
    "\n",
    "- Listas: Tienen métodos como append(), remove(), pop(), sort(), etc., que permiten modificar el contenido de la lista.\n",
    "\n",
    "- Tuplas: Tienen menos métodos disponibles debido a su inmutabilidad. Solo tienen métodos como count() y index().\n",
    "\n",
    "En resumen, la elección entre una lista y una tupla depende de si necesitas una colección de elementos que puedan cambiar o no a lo largo del tiempo."
   ]
  }
 ],
 "metadata": {
  "kernelspec": {
   "display_name": "Python 3",
   "language": "python",
   "name": "python3"
  },
  "language_info": {
   "codemirror_mode": {
    "name": "ipython",
    "version": 3
   },
   "file_extension": ".py",
   "mimetype": "text/x-python",
   "name": "python",
   "nbconvert_exporter": "python",
   "pygments_lexer": "ipython3",
   "version": "3.11.9"
  }
 },
 "nbformat": 4,
 "nbformat_minor": 2
}
