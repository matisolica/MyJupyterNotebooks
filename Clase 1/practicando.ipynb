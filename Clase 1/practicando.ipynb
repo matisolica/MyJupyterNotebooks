{
 "cells": [
  {
   "cell_type": "code",
   "execution_count": 14,
   "metadata": {},
   "outputs": [
    {
     "data": {
      "text/plain": [
       "([1, 2, 3], [1, 2, 3])"
      ]
     },
     "execution_count": 14,
     "metadata": {},
     "output_type": "execute_result"
    }
   ],
   "source": [
    "x = [1, 2, 3]\n",
    "y = x\n",
    "(x,y)"
   ]
  },
  {
   "cell_type": "code",
   "execution_count": 15,
   "metadata": {},
   "outputs": [
    {
     "data": {
      "text/plain": [
       "[1, 2, 3, 4]"
      ]
     },
     "execution_count": 15,
     "metadata": {},
     "output_type": "execute_result"
    }
   ],
   "source": [
    "x.append(4)\n",
    "x"
   ]
  },
  {
   "cell_type": "code",
   "execution_count": 13,
   "metadata": {},
   "outputs": [
    {
     "data": {
      "text/plain": [
       "5"
      ]
     },
     "execution_count": 13,
     "metadata": {},
     "output_type": "execute_result"
    }
   ],
   "source": [
    "x = 2\n",
    "y = 3\n",
    "z = x + y\n",
    "z"
   ]
  },
  {
   "cell_type": "code",
   "execution_count": 18,
   "metadata": {},
   "outputs": [
    {
     "data": {
      "text/plain": [
       "120"
      ]
     },
     "execution_count": 18,
     "metadata": {},
     "output_type": "execute_result"
    }
   ],
   "source": [
    "fac = 1\n",
    "for i in range(1,6):\n",
    "  # print(fac)\n",
    "  fac *= i\n",
    "fac\n"
   ]
  },
  {
   "cell_type": "code",
   "execution_count": 27,
   "metadata": {},
   "outputs": [
    {
     "name": "stdout",
     "output_type": "stream",
     "text": [
      "1 0\n",
      "2 1\n",
      "3 3\n",
      "4 6\n",
      "5 10\n",
      "6 15\n",
      "7 21\n",
      "8 28\n",
      "9 36\n",
      "10 45\n",
      "11 55\n",
      "12 66\n",
      "13 78\n",
      "14 91\n",
      "15 105\n",
      "16 120\n",
      "17 136\n",
      "18 153\n",
      "19 171\n",
      "20 190\n",
      "21 210\n",
      "22 231\n",
      "23 253\n",
      "24 276\n",
      "25 300\n",
      "26 325\n",
      "27 351\n",
      "28 378\n",
      "29 406\n",
      "30 435\n",
      "31 465\n",
      "32 496\n",
      "33 528\n",
      "34 561\n",
      "35 595\n",
      "36 630\n",
      "37 666\n",
      "38 703\n",
      "39 741\n",
      "40 780\n",
      "41 820\n",
      "42 861\n",
      "43 903\n",
      "44 946\n",
      "45 990\n",
      "46 1035\n",
      "47 1081\n",
      "48 1128\n",
      "49 1176\n",
      "50 1225\n",
      "51 1275\n",
      "52 1326\n",
      "53 1378\n",
      "54 1431\n",
      "55 1485\n",
      "56 1540\n",
      "57 1596\n",
      "58 1653\n",
      "59 1711\n",
      "60 1770\n",
      "61 1830\n",
      "62 1891\n",
      "63 1953\n",
      "64 2016\n",
      "65 2080\n",
      "66 2145\n",
      "67 2211\n",
      "68 2278\n",
      "69 2346\n",
      "70 2415\n",
      "71 2485\n",
      "72 2556\n",
      "73 2628\n",
      "74 2701\n",
      "75 2775\n",
      "76 2850\n",
      "77 2926\n",
      "78 3003\n",
      "79 3081\n",
      "80 3160\n",
      "81 3240\n",
      "82 3321\n",
      "83 3403\n",
      "84 3486\n",
      "85 3570\n",
      "86 3655\n",
      "87 3741\n",
      "88 3828\n",
      "89 3916\n",
      "90 4005\n",
      "91 4095\n",
      "92 4186\n",
      "93 4278\n",
      "94 4371\n",
      "95 4465\n",
      "96 4560\n",
      "97 4656\n",
      "98 4753\n",
      "99 4851\n",
      "100 4950\n"
     ]
    },
    {
     "data": {
      "text/plain": [
       "5050"
      ]
     },
     "execution_count": 27,
     "metadata": {},
     "output_type": "execute_result"
    }
   ],
   "source": [
    "sum = 0\n",
    "for i in range (1,101):\n",
    "    print(i, sum)\n",
    "    sum += i\n",
    "sum\n"
   ]
  }
 ],
 "metadata": {
  "kernelspec": {
   "display_name": "Python 3",
   "language": "python",
   "name": "python3"
  },
  "language_info": {
   "codemirror_mode": {
    "name": "ipython",
    "version": 3
   },
   "file_extension": ".py",
   "mimetype": "text/x-python",
   "name": "python",
   "nbconvert_exporter": "python",
   "pygments_lexer": "ipython3",
   "version": "3.11.9"
  }
 },
 "nbformat": 4,
 "nbformat_minor": 2
}
